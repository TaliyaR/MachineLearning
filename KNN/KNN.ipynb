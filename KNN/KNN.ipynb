{
 "cells": [
  {
   "cell_type": "code",
   "execution_count": 25,
   "metadata": {},
   "outputs": [],
   "source": [
    "import random\n",
    "import sys\n",
    "from math import sqrt\n",
    "import numpy as np\n",
    "import pygame\n",
    "from pygame import RESIZABLE, QUIT, KEYUP, K_ESCAPE"
   ]
  },
  {
   "cell_type": "code",
   "execution_count": 26,
   "metadata": {},
   "outputs": [],
   "source": [
    "radius = 50\n",
    "screen_width = 1280\n",
    "screen_height = 720"
   ]
  },
  {
   "cell_type": "markdown",
   "metadata": {},
   "source": [
    "#### Расстояние между точками"
   ]
  },
  {
   "cell_type": "code",
   "execution_count": 27,
   "metadata": {},
   "outputs": [],
   "source": [
    "def distance(a, b):\n",
    "    return sqrt((a[0] - b[0]) ** 2 + (a[1] - b[1]) ** 2)"
   ]
  },
  {
   "cell_type": "markdown",
   "metadata": {},
   "source": [
    "#### Генерация рандомных данных"
   ]
  },
  {
   "cell_type": "code",
   "execution_count": 28,
   "metadata": {},
   "outputs": [],
   "source": [
    "def generate_data(number_of_points, number_of_class):\n",
    "    data = []\n",
    "    for classNum in range(number_of_class):\n",
    "        center_x, center_y = random.randint(radius, screen_width - radius), random.randint(radius, screen_height - radius)\n",
    "        for rowNum in range(number_of_points):\n",
    "            data.append([[random.gauss(center_x, radius / 2), random.gauss(center_y, radius / 2)], classNum])\n",
    "    return data"
   ]
  },
  {
   "cell_type": "markdown",
   "metadata": {},
   "source": [
    "#### Поиск самого популярного цвета"
   ]
  },
  {
   "cell_type": "code",
   "execution_count": 29,
   "metadata": {},
   "outputs": [],
   "source": [
    "def find_color(points):\n",
    "    color_counts = {}\n",
    "    for p in points:\n",
    "        color_counts.setdefault(p[1], 0)\n",
    "        color_counts[p[1]] += 1\n",
    "    popular_color = 0\n",
    "    counter = 0\n",
    "    for color, color_counter in color_counts.items():\n",
    "        if color_counter > counter:\n",
    "            counter = color_counter\n",
    "            popular_color = color\n",
    "    return popular_color"
   ]
  },
  {
   "cell_type": "markdown",
   "metadata": {},
   "source": [
    "#### Поиск расстояния между точками"
   ]
  },
  {
   "cell_type": "code",
   "execution_count": 30,
   "metadata": {},
   "outputs": [],
   "source": [
    "def find_distances_between_points(point):\n",
    "    points_distances = []\n",
    "    for p in points:\n",
    "        if point == p:\n",
    "            continue\n",
    "        points_distances.append(distance(p[0], point[0]))\n",
    "    return [points[x] for x in np.argsort(points_distances)]"
   ]
  },
  {
   "cell_type": "markdown",
   "metadata": {},
   "source": [
    "#### Пересчет значения k"
   ]
  },
  {
   "cell_type": "code",
   "execution_count": 31,
   "metadata": {},
   "outputs": [],
   "source": [
    "def recount_k(point):\n",
    "    distances = find_distances_between_points(point)\n",
    "    for k in range(1, len(k_results)):\n",
    "        nearest_points = distances[:k]\n",
    "        current_result = find_color(nearest_points)\n",
    "        if point[1] == current_result:\n",
    "            k_results[k] += 1"
   ]
  },
  {
   "cell_type": "markdown",
   "metadata": {},
   "source": [
    "#### Расчета значения k"
   ]
  },
  {
   "cell_type": "code",
   "execution_count": 32,
   "metadata": {},
   "outputs": [],
   "source": [
    "def calculate_k():\n",
    "    result = 0\n",
    "    index = -1\n",
    "    for k_index, k in enumerate(k_results):\n",
    "        if k > result:\n",
    "            result = k\n",
    "            index = k_index\n",
    "    return index"
   ]
  },
  {
   "cell_type": "markdown",
   "metadata": {},
   "source": [
    "#### Запуск алгоритма KNN"
   ]
  },
  {
   "cell_type": "code",
   "execution_count": 33,
   "metadata": {},
   "outputs": [
    {
     "ename": "SystemExit",
     "evalue": "",
     "output_type": "error",
     "traceback": [
      "An exception has occurred, use %tb to see the full traceback.\n",
      "\u001b[0;31mSystemExit\u001b[0m\n"
     ]
    }
   ],
   "source": [
    "def knn(new_point, k):\n",
    "    sorted_points = find_distances_between_points(new_point)\n",
    "    nearest_k_points = sorted_points[:k]\n",
    "    color = find_color(nearest_k_points)\n",
    "    new_point[1] = color\n",
    "\n",
    "number_of_points = 10\n",
    "number_of_class = 3\n",
    "points = generate_start_points(number_of_points, number_of_class)\n",
    "new_points = []\n",
    "global_index = 0\n",
    "\n",
    "k_results = [0 for x in range(int(len(points)))]\n",
    "\n",
    "surface = pygame.display.set_mode((screen_width, screen_height), RESIZABLE)\n",
    "surface.fill((255, 255, 255))\n",
    "\n",
    "colors = ['red', 'green', 'blue', 'black']\n",
    "\n",
    "\n",
    "while True:\n",
    "    for event in pygame.event.get():\n",
    "        if event.type == QUIT or (event.type == KEYUP and event.key == K_ESCAPE):\n",
    "            pygame.quit()\n",
    "            sys.exit()\n",
    "        if event.type == pygame.MOUSEBUTTONDOWN:\n",
    "            if event.button == 1:\n",
    "                new_points.append([[event.pos[0], event.pos[1]], -1])\n",
    "\n",
    "            if event.button == 3:\n",
    "                point = [[event.pos[0], event.pos[1]], -1]\n",
    "                knn(point, calculate_k())\n",
    "                points.append(point)\n",
    "\n",
    "        if event.type == pygame.KEYDOWN:\n",
    "            if len(new_points) > global_index:\n",
    "                current_point = new_points[global_index]\n",
    "                if event.key == pygame.K_r:\n",
    "                    current_point[-1] = 0\n",
    "                    global_index += 1\n",
    "                    points.append(current_point)\n",
    "                    recount_k(current_point)\n",
    "                if event.key == pygame.K_g:\n",
    "                    current_point[-1] = 1\n",
    "                    global_index += 1\n",
    "                    points.append(current_point)\n",
    "                    recount_k(current_point)\n",
    "                if event.key == pygame.K_b:\n",
    "                    current_point[-1] = 2\n",
    "                    global_index += 1\n",
    "                    points.append(current_point)\n",
    "                    recount_k(current_point)\n",
    "    for point in points:\n",
    "        pygame.draw.circle(surface, colors[point[1]], point[0], 5)\n",
    "    for point in new_points:\n",
    "        pygame.draw.circle(surface, colors[point[1]], point[0], 5)\n",
    "    pygame.display.update()"
   ]
  }
 ],
 "metadata": {
  "kernelspec": {
   "display_name": "Python 3",
   "language": "python",
   "name": "python3"
  },
  "language_info": {
   "codemirror_mode": {
    "name": "ipython",
    "version": 3
   },
   "file_extension": ".py",
   "mimetype": "text/x-python",
   "name": "python",
   "nbconvert_exporter": "python",
   "pygments_lexer": "ipython3",
   "version": "3.7.6"
  }
 },
 "nbformat": 4,
 "nbformat_minor": 4
}
